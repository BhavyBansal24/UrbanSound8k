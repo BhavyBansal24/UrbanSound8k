{
 "cells": [
  {
   "cell_type": "code",
   "execution_count": 1,
   "id": "71eb8567",
   "metadata": {},
   "outputs": [],
   "source": [
    "import os\n",
    "import pandas as pd\n",
    "import librosa \n",
    "import numpy as np\n",
    "import seaborn as sns\n",
    "from sklearn.preprocessing import LabelEncoder\n",
    "le = LabelEncoder()\n",
    "import matplotlib.pyplot as plt\n",
    "import tensorflow as tf\n",
    "from tensorflow import keras\n",
    "import keras.models as models\n",
    "import keras.layers as layers\n",
    "from keras.utils import to_categorical\n",
    "from sklearn.model_selection import train_test_split\n",
    "import IPython.display as idp\n",
    "from keras.models import load_model\n",
    "import cv2\n",
    "import warnings\n",
    "warnings.simplefilter(\"ignore\")\n",
    "from sklearn.metrics import classification_report,confusion_matrix"
   ]
  },
  {
   "cell_type": "code",
   "execution_count": 2,
   "id": "30008a30",
   "metadata": {
    "execution": {
     "iopub.execute_input": "2021-09-12T11:54:15.331938Z",
     "iopub.status.busy": "2021-09-12T11:54:15.331374Z",
     "iopub.status.idle": "2021-09-12T11:54:15.359298Z",
     "shell.execute_reply": "2021-09-12T11:54:15.359737Z",
     "shell.execute_reply.started": "2021-09-01T16:39:57.536589Z"
    },
    "papermill": {
     "duration": 0.068357,
     "end_time": "2021-09-12T11:54:15.359872",
     "exception": false,
     "start_time": "2021-09-12T11:54:15.291515",
     "status": "completed"
    },
    "tags": []
   },
   "outputs": [],
   "source": [
    "audio_dataset_path = 'extracted/'\n",
    "df = pd.read_csv('extracted/UrbanSound8K.csv')"
   ]
  },
  {
   "cell_type": "code",
   "execution_count": 3,
   "id": "13ef6850",
   "metadata": {
    "execution": {
     "iopub.execute_input": "2021-09-12T11:54:15.439525Z",
     "iopub.status.busy": "2021-09-12T11:54:15.438802Z",
     "iopub.status.idle": "2021-09-12T11:54:15.456885Z",
     "shell.execute_reply": "2021-09-12T11:54:15.457379Z",
     "shell.execute_reply.started": "2021-09-01T16:40:03.532956Z"
    },
    "papermill": {
     "duration": 0.061724,
     "end_time": "2021-09-12T11:54:15.457545",
     "exception": false,
     "start_time": "2021-09-12T11:54:15.395821",
     "status": "completed"
    },
    "tags": []
   },
   "outputs": [
    {
     "data": {
      "text/html": [
       "<div>\n",
       "<style scoped>\n",
       "    .dataframe tbody tr th:only-of-type {\n",
       "        vertical-align: middle;\n",
       "    }\n",
       "\n",
       "    .dataframe tbody tr th {\n",
       "        vertical-align: top;\n",
       "    }\n",
       "\n",
       "    .dataframe thead th {\n",
       "        text-align: right;\n",
       "    }\n",
       "</style>\n",
       "<table border=\"1\" class=\"dataframe\">\n",
       "  <thead>\n",
       "    <tr style=\"text-align: right;\">\n",
       "      <th></th>\n",
       "      <th>slice_file_name</th>\n",
       "      <th>fsID</th>\n",
       "      <th>start</th>\n",
       "      <th>end</th>\n",
       "      <th>salience</th>\n",
       "      <th>fold</th>\n",
       "      <th>classID</th>\n",
       "      <th>class</th>\n",
       "    </tr>\n",
       "  </thead>\n",
       "  <tbody>\n",
       "    <tr>\n",
       "      <th>0</th>\n",
       "      <td>100032-3-0-0.wav</td>\n",
       "      <td>100032</td>\n",
       "      <td>0.0</td>\n",
       "      <td>0.317551</td>\n",
       "      <td>1</td>\n",
       "      <td>5</td>\n",
       "      <td>3</td>\n",
       "      <td>dog_bark</td>\n",
       "    </tr>\n",
       "    <tr>\n",
       "      <th>1</th>\n",
       "      <td>100263-2-0-117.wav</td>\n",
       "      <td>100263</td>\n",
       "      <td>58.5</td>\n",
       "      <td>62.500000</td>\n",
       "      <td>1</td>\n",
       "      <td>5</td>\n",
       "      <td>2</td>\n",
       "      <td>children_playing</td>\n",
       "    </tr>\n",
       "    <tr>\n",
       "      <th>2</th>\n",
       "      <td>100263-2-0-121.wav</td>\n",
       "      <td>100263</td>\n",
       "      <td>60.5</td>\n",
       "      <td>64.500000</td>\n",
       "      <td>1</td>\n",
       "      <td>5</td>\n",
       "      <td>2</td>\n",
       "      <td>children_playing</td>\n",
       "    </tr>\n",
       "    <tr>\n",
       "      <th>3</th>\n",
       "      <td>100263-2-0-126.wav</td>\n",
       "      <td>100263</td>\n",
       "      <td>63.0</td>\n",
       "      <td>67.000000</td>\n",
       "      <td>1</td>\n",
       "      <td>5</td>\n",
       "      <td>2</td>\n",
       "      <td>children_playing</td>\n",
       "    </tr>\n",
       "    <tr>\n",
       "      <th>4</th>\n",
       "      <td>100263-2-0-137.wav</td>\n",
       "      <td>100263</td>\n",
       "      <td>68.5</td>\n",
       "      <td>72.500000</td>\n",
       "      <td>1</td>\n",
       "      <td>5</td>\n",
       "      <td>2</td>\n",
       "      <td>children_playing</td>\n",
       "    </tr>\n",
       "  </tbody>\n",
       "</table>\n",
       "</div>"
      ],
      "text/plain": [
       "      slice_file_name    fsID  start        end  salience  fold  classID  \\\n",
       "0    100032-3-0-0.wav  100032    0.0   0.317551         1     5        3   \n",
       "1  100263-2-0-117.wav  100263   58.5  62.500000         1     5        2   \n",
       "2  100263-2-0-121.wav  100263   60.5  64.500000         1     5        2   \n",
       "3  100263-2-0-126.wav  100263   63.0  67.000000         1     5        2   \n",
       "4  100263-2-0-137.wav  100263   68.5  72.500000         1     5        2   \n",
       "\n",
       "              class  \n",
       "0          dog_bark  \n",
       "1  children_playing  \n",
       "2  children_playing  \n",
       "3  children_playing  \n",
       "4  children_playing  "
      ]
     },
     "execution_count": 3,
     "metadata": {},
     "output_type": "execute_result"
    }
   ],
   "source": [
    "df.head(5)"
   ]
  },
  {
   "cell_type": "code",
   "execution_count": 4,
   "id": "606c95b1",
   "metadata": {},
   "outputs": [
    {
     "name": "stdout",
     "output_type": "stream",
     "text": [
      "Classes are:  ['dog_bark' 'children_playing' 'car_horn' 'air_conditioner' 'street_music'\n",
      " 'gun_shot' 'siren' 'engine_idling' 'jackhammer' 'drilling']\n",
      "# of Classes are:  10\n"
     ]
    }
   ],
   "source": [
    "classes = df['class'].unique()\n",
    "print(\"Classes are: \",classes)\n",
    "print(\"# of Classes are: \",classes.shape[0])"
   ]
  },
  {
   "cell_type": "code",
   "execution_count": 5,
   "id": "c9a64aaa",
   "metadata": {
    "execution": {
     "iopub.execute_input": "2021-09-12T11:54:15.853949Z",
     "iopub.status.busy": "2021-09-12T11:54:15.853359Z",
     "iopub.status.idle": "2021-09-12T12:09:48.531353Z",
     "shell.execute_reply": "2021-09-12T12:09:48.514800Z",
     "shell.execute_reply.started": "2021-09-01T16:42:43.837645Z"
    },
    "papermill": {
     "duration": 932.719496,
     "end_time": "2021-09-12T12:09:48.531540",
     "exception": false,
     "start_time": "2021-09-12T11:54:15.812044",
     "status": "completed"
    },
    "tags": []
   },
   "outputs": [],
   "source": [
    "X = []\n",
    "y = []\n",
    "up_width = 173\n",
    "up_height = 40\n",
    "for data in df.iterrows():\n",
    "    file_name = os.path.join(os.path.abspath(audio_dataset_path),'fold'+str(data[1][5])+'/',str(data[1][0]))\n",
    "    raw , sr = librosa.load(file_name, res_type='kaiser_fast')\n",
    "    X_ = librosa.feature.mfcc(y=raw, sr=sr, n_mfcc=40)\n",
    "    up_points = (up_width, up_height)\n",
    "    X_ = cv2.resize(X_, up_points, interpolation= cv2.INTER_LINEAR)\n",
    "    X.append(X_)\n",
    "    y.append(data[1][7])"
   ]
  },
  {
   "cell_type": "code",
   "execution_count": 6,
   "id": "b5ae8ced",
   "metadata": {},
   "outputs": [],
   "source": [
    "X = np.array(X)\n",
    "y = np.array(y)"
   ]
  },
  {
   "cell_type": "code",
   "execution_count": 7,
   "id": "3a53d94b",
   "metadata": {},
   "outputs": [
    {
     "name": "stdout",
     "output_type": "stream",
     "text": [
      "(8732, 40, 173)\n",
      "(8732,)\n"
     ]
    }
   ],
   "source": [
    "print(X.shape)\n",
    "print(y.shape)"
   ]
  },
  {
   "cell_type": "code",
   "execution_count": 8,
   "id": "b2d8ac53",
   "metadata": {},
   "outputs": [],
   "source": [
    "y = to_categorical(le.fit_transform(y))\n",
    "X = X.reshape(X.shape[0], X.shape[1], X.shape[2], 1)"
   ]
  },
  {
   "cell_type": "code",
   "execution_count": 9,
   "id": "ba915817",
   "metadata": {},
   "outputs": [
    {
     "name": "stdout",
     "output_type": "stream",
     "text": [
      "X Shape is:  (8732, 40, 173, 1)\n",
      "y Shape is:  (8732, 10)\n"
     ]
    }
   ],
   "source": [
    "print(\"X Shape is: \", X.shape)\n",
    "print(\"y Shape is: \", y.shape)"
   ]
  },
  {
   "cell_type": "code",
   "execution_count": 10,
   "id": "fc428ba1",
   "metadata": {},
   "outputs": [],
   "source": [
    "X_train , X_test , y_train , y_test = train_test_split(X , y ,test_size=0.2, random_state=42)"
   ]
  },
  {
   "cell_type": "code",
   "execution_count": 11,
   "id": "28deecb5",
   "metadata": {},
   "outputs": [],
   "source": [
    "INPUTSHAPE = (up_height,up_width,1)"
   ]
  },
  {
   "cell_type": "code",
   "execution_count": 12,
   "id": "8a608b5d",
   "metadata": {},
   "outputs": [
    {
     "name": "stdout",
     "output_type": "stream",
     "text": [
      "Model: \"sequential\"\n",
      "_________________________________________________________________\n",
      " Layer (type)                Output Shape              Param #   \n",
      "=================================================================\n",
      " conv2d (Conv2D)             (None, 38, 171, 32)       320       \n",
      "                                                                 \n",
      " max_pooling2d (MaxPooling2D  (None, 19, 86, 32)       0         \n",
      " )                                                               \n",
      "                                                                 \n",
      " conv2d_1 (Conv2D)           (None, 17, 84, 128)       36992     \n",
      "                                                                 \n",
      " max_pooling2d_1 (MaxPooling  (None, 9, 42, 128)       0         \n",
      " 2D)                                                             \n",
      "                                                                 \n",
      " dropout (Dropout)           (None, 9, 42, 128)        0         \n",
      "                                                                 \n",
      " conv2d_2 (Conv2D)           (None, 7, 40, 128)        147584    \n",
      "                                                                 \n",
      " max_pooling2d_2 (MaxPooling  (None, 4, 20, 128)       0         \n",
      " 2D)                                                             \n",
      "                                                                 \n",
      " dropout_1 (Dropout)         (None, 4, 20, 128)        0         \n",
      "                                                                 \n",
      " global_average_pooling2d (G  (None, 128)              0         \n",
      " lobalAveragePooling2D)                                          \n",
      "                                                                 \n",
      " dense (Dense)               (None, 256)               33024     \n",
      "                                                                 \n",
      " dense_1 (Dense)             (None, 10)                2570      \n",
      "                                                                 \n",
      "=================================================================\n",
      "Total params: 220,490\n",
      "Trainable params: 220,490\n",
      "Non-trainable params: 0\n",
      "_________________________________________________________________\n"
     ]
    }
   ],
   "source": [
    "model =  models.Sequential([\n",
    "    \n",
    "                          layers.Conv2D(32 , (3,3),activation = 'relu',padding='valid', input_shape = INPUTSHAPE),  \n",
    "                          layers.MaxPooling2D(2, padding='same'),\n",
    "                          layers.Conv2D(128, (3,3), activation='relu',padding='valid'),\n",
    "                          layers.MaxPooling2D(2, padding='same'),\n",
    "                          layers.Dropout(0.3),\n",
    "                          layers.Conv2D(128, (3,3), activation='relu',padding='valid'),\n",
    "                          layers.MaxPooling2D(2, padding='same'),\n",
    "                          layers.Dropout(0.3),\n",
    "                          layers.GlobalAveragePooling2D(),\n",
    "                          layers.Dense(256 , activation = 'relu'),\n",
    "                          layers.Dense(10 , activation = 'softmax')\n",
    "])\n",
    "opt = keras.optimizers.Adam(learning_rate = 0.001)\n",
    "model.compile(loss = 'categorical_crossentropy', optimizer = opt, metrics = 'acc')\n",
    "model.summary()"
   ]
  },
  {
   "cell_type": "code",
   "execution_count": 13,
   "id": "7d9329fc",
   "metadata": {},
   "outputs": [
    {
     "name": "stdout",
     "output_type": "stream",
     "text": [
      "Epoch 1/15\n",
      "874/874 [==============================] - 11s 6ms/step - loss: 1.3614 - acc: 0.5178 - val_loss: 0.9672 - val_acc: 0.6669\n",
      "Epoch 2/15\n",
      "874/874 [==============================] - 5s 6ms/step - loss: 0.8341 - acc: 0.7124 - val_loss: 0.8197 - val_acc: 0.7149\n",
      "Epoch 3/15\n",
      "874/874 [==============================] - 5s 6ms/step - loss: 0.6382 - acc: 0.7861 - val_loss: 0.5395 - val_acc: 0.8191\n",
      "Epoch 4/15\n",
      "874/874 [==============================] - 5s 6ms/step - loss: 0.4830 - acc: 0.8364 - val_loss: 0.3952 - val_acc: 0.8683\n",
      "Epoch 5/15\n",
      "874/874 [==============================] - 5s 5ms/step - loss: 0.4188 - acc: 0.8574 - val_loss: 0.4031 - val_acc: 0.8695\n",
      "Epoch 6/15\n",
      "874/874 [==============================] - 5s 6ms/step - loss: 0.3503 - acc: 0.8789 - val_loss: 0.3886 - val_acc: 0.8666\n",
      "Epoch 7/15\n",
      "874/874 [==============================] - 5s 6ms/step - loss: 0.3217 - acc: 0.8968 - val_loss: 0.5114 - val_acc: 0.8340\n",
      "Epoch 8/15\n",
      "874/874 [==============================] - 5s 5ms/step - loss: 0.2911 - acc: 0.8995 - val_loss: 0.5820 - val_acc: 0.8243\n",
      "Epoch 9/15\n",
      "874/874 [==============================] - 5s 5ms/step - loss: 0.2554 - acc: 0.9108 - val_loss: 0.3488 - val_acc: 0.8930\n",
      "Epoch 10/15\n",
      "874/874 [==============================] - 5s 5ms/step - loss: 0.2168 - acc: 0.9281 - val_loss: 0.3246 - val_acc: 0.9050\n",
      "Epoch 11/15\n",
      "874/874 [==============================] - 5s 5ms/step - loss: 0.2075 - acc: 0.9314 - val_loss: 0.3597 - val_acc: 0.9044\n",
      "Epoch 12/15\n",
      "874/874 [==============================] - 5s 5ms/step - loss: 0.2156 - acc: 0.9296 - val_loss: 0.3259 - val_acc: 0.8987\n",
      "Epoch 13/15\n",
      "874/874 [==============================] - 5s 5ms/step - loss: 0.1784 - acc: 0.9410 - val_loss: 0.2873 - val_acc: 0.9181\n",
      "Epoch 14/15\n",
      "874/874 [==============================] - 5s 5ms/step - loss: 0.1712 - acc: 0.9409 - val_loss: 0.4620 - val_acc: 0.8706\n",
      "Epoch 15/15\n",
      "874/874 [==============================] - 5s 5ms/step - loss: 0.1921 - acc: 0.9379 - val_loss: 0.3111 - val_acc: 0.9136\n"
     ]
    }
   ],
   "source": [
    "batch_size = 8\n",
    "callback = tf.keras.callbacks.EarlyStopping(\n",
    "    monitor='val_loss', min_delta=0, patience=8, verbose=0, mode='auto',\n",
    "    baseline=None, restore_best_weights=False)\n",
    "\n",
    "history = model.fit(X_train,y_train ,\n",
    "            validation_data=(X_test,y_test),\n",
    "            epochs=15,\n",
    "            callbacks = [callback],batch_size=batch_size)"
   ]
  },
  {
   "cell_type": "code",
   "execution_count": 14,
   "id": "0378f9c4",
   "metadata": {},
   "outputs": [
    {
     "data": {
      "image/png": "[encoded data removed]",
      "text/plain": [
       "<Figure size 640x480 with 1 Axes>"
      ]
     },
     "metadata": {},
     "output_type": "display_data"
    },
    {
     "data": {
      "image/png": "[encoded data removed]",
      "text/plain": [
       "<Figure size 640x480 with 1 Axes>"
      ]
     },
     "metadata": {},
     "output_type": "display_data"
    }
   ],
   "source": [
    "import matplotlib.pyplot as plt\n",
    "plt.plot(history.history['acc'])\n",
    "plt.plot(history.history['val_acc'])\n",
    "plt.title('model accuracy')\n",
    "plt.ylabel('accuracy')\n",
    "plt.xlabel('epoch')\n",
    "plt.legend(['train', 'validation'], loc='upper left')\n",
    "plt.show()\n",
    "\n",
    "\n",
    "plt.plot(history.history['loss'])\n",
    "plt.plot(history.history['val_loss'])\n",
    "plt.title('model loss')\n",
    "plt.ylabel('loss')\n",
    "plt.xlabel('epoch')\n",
    "plt.legend(['train', 'validation'], loc='upper left')\n",
    "plt.show()"
   ]
  },
  {
   "cell_type": "code",
   "execution_count": null,
   "id": "7a97725a",
   "metadata": {},
   "outputs": [],
   "source": [
    "model.save('hello')"
   ]
  },
  {
   "cell_type": "code",
   "execution_count": 16,
   "id": "5af4ccfd",
   "metadata": {},
   "outputs": [],
   "source": [
    "model_saved = keras.models.load_model('hello')"
   ]
  },
  {
   "cell_type": "code",
   "execution_count": 17,
   "id": "0f8be377",
   "metadata": {},
   "outputs": [
    {
     "name": "stdout",
     "output_type": "stream",
     "text": [
      "55/55 - 1s - loss: 0.3111 - acc: 0.9136 - 665ms/epoch - 12ms/step\n",
      "Restored model, accuracy: 91.36%\n"
     ]
    }
   ],
   "source": [
    "loss, acc = model_saved.evaluate(X_test, y_test, verbose=2)\n",
    "print('Restored model, accuracy: {:5.2f}%'.format(100 * acc))"
   ]
  },
  {
   "cell_type": "code",
   "execution_count": 18,
   "id": "b4f09536",
   "metadata": {},
   "outputs": [],
   "source": [
    "def audio_to_result(filename):\n",
    "    raw , sr = librosa.load(filename, res_type='kaiser_fast')\n",
    "    X_image = librosa.feature.mfcc(y=raw, sr=sr, n_mfcc=40)\n",
    "    up_width = 173\n",
    "    up_height = 40\n",
    "    up_points = (up_width, up_height)\n",
    "    X_image = cv2.resize(X_image, up_points, interpolation= cv2.INTER_LINEAR)\n",
    "    print(X_image.shape)\n",
    "    X_image = X_image.reshape(1,X_image.shape[0],X_image.shape[1],1)\n",
    "    pred = model_saved.predict(X_image)\n",
    "    prediction = np.argmax(pred, axis=-1)\n",
    "    return prediction"
   ]
  },
  {
   "cell_type": "code",
   "execution_count": 19,
   "id": "932be576",
   "metadata": {},
   "outputs": [
    {
     "name": "stdout",
     "output_type": "stream",
     "text": [
      "(40, 173)\n",
      "1/1 [==============================] - 0s 97ms/step\n"
     ]
    }
   ],
   "source": [
    "pred = audio_to_result('extracted/fold3/103199-4-1-0.wav')"
   ]
  },
  {
   "cell_type": "code",
   "execution_count": 20,
   "id": "9c1e1a57",
   "metadata": {},
   "outputs": [
    {
     "name": "stdout",
     "output_type": "stream",
     "text": [
      "drilling\n"
     ]
    }
   ],
   "source": [
    "pred_class = le.inverse_transform(pred)\n",
    "print(pred_class[0])"
   ]
  },
  {
   "cell_type": "code",
   "execution_count": 21,
   "id": "29cfb419",
   "metadata": {},
   "outputs": [],
   "source": [
    "np.save('classes.npy', le.classes_)"
   ]
  },
  {
   "cell_type": "markdown",
   "id": "d86dc7b5",
   "metadata": {},
   "source": [
    "## Model Evaluation ✅"
   ]
  },
  {
   "cell_type": "code",
   "execution_count": 22,
   "id": "608087d5",
   "metadata": {},
   "outputs": [
    {
     "name": "stdout",
     "output_type": "stream",
     "text": [
      "55/55 [==============================] - 0s 3ms/step\n"
     ]
    }
   ],
   "source": [
    "Y_pred = model.predict(X_test)\n",
    "Y_pred = [np.argmax(i) for i in Y_pred]\n",
    "y_test = [np.argmax(i) for i in y_test]"
   ]
  },
  {
   "cell_type": "code",
   "execution_count": 23,
   "id": "e17858dc",
   "metadata": {},
   "outputs": [
    {
     "name": "stdout",
     "output_type": "stream",
     "text": [
      "              precision    recall  f1-score   support\n",
      "\n",
      "           0       0.92      0.97      0.94       203\n",
      "           1       0.94      0.92      0.93        86\n",
      "           2       0.86      0.90      0.88       183\n",
      "           3       0.93      0.88      0.90       201\n",
      "           4       0.94      0.80      0.87       206\n",
      "           5       0.94      0.98      0.96       193\n",
      "           6       0.92      0.96      0.94        72\n",
      "           7       0.89      0.92      0.91       208\n",
      "           8       0.94      0.98      0.96       165\n",
      "           9       0.88      0.89      0.89       230\n",
      "\n",
      "    accuracy                           0.91      1747\n",
      "   macro avg       0.92      0.92      0.92      1747\n",
      "weighted avg       0.91      0.91      0.91      1747\n",
      "\n"
     ]
    }
   ],
   "source": [
    "print(classification_report(y_test,Y_pred))"
   ]
  },
  {
   "cell_type": "code",
   "execution_count": 25,
   "id": "7ec8c489",
   "metadata": {},
   "outputs": [
    {
     "data": {
      "image/png": "[encoded data removed]",
      "text/plain": [
       "<Figure size 1500x800 with 1 Axes>"
      ]
     },
     "metadata": {},
     "output_type": "display_data"
    }
   ],
   "source": [
    "sns.set_style(\"dark\")\n",
    "plt.figure(figsize=(15,8))\n",
    "plt.title(\"CONFUSION MATRIX FOR UltraSound8K PREDICTION\")\n",
    "cm = confusion_matrix([int(x) for x in y_test],Y_pred)\n",
    "sns.heatmap(cm, annot=True, cmap=\"cool\", fmt='g', cbar=False)\n",
    "plt.xlabel(\"ACTUAL VALUES\")\n",
    "plt.ylabel(\"PREDICTED VALUES\")\n",
    "plt.show()"
   ]
  }
 ],
 "metadata": {
  "kernelspec": {
   "display_name": "Python 3.10.4 ('tensorflow')",
   "language": "python",
   "name": "python3"
  },
  "language_info": {
   "codemirror_mode": {
    "name": "ipython",
    "version": 3
   },
   "file_extension": ".py",
   "mimetype": "text/x-python",
   "name": "python",
   "nbconvert_exporter": "python",
   "pygments_lexer": "ipython3",
   "version": "3.10.4"
  },
  "papermill": {
   "default_parameters": {},
   "duration": 1099.37774,
   "end_time": "2021-09-12T12:12:22.722567",
   "environment_variables": {},
   "exception": null,
   "input_path": "__notebook__.ipynb",
   "output_path": "__notebook__.ipynb",
   "parameters": {},
   "start_time": "2021-09-12T11:54:03.344827",
   "version": "2.3.3"
  },
  "vscode": {
   "interpreter": {
    "hash": "08f78287c10dac1b18917047464f8c5b747b3620da3b1ada6b5c6a151f80ca41"
   }
  }
 },
 "nbformat": 4,
 "nbformat_minor": 5
}
